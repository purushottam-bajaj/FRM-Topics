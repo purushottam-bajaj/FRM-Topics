{
 "cells": [
  {
   "cell_type": "code",
   "execution_count": 6,
   "id": "604ea514",
   "metadata": {},
   "outputs": [],
   "source": [
    "import numpy as np\n",
    "import matplotlib.pyplot as plt"
   ]
  },
  {
   "cell_type": "code",
   "execution_count": 9,
   "id": "31fbb1c2",
   "metadata": {},
   "outputs": [],
   "source": [
    "# Parameters\n",
    "\n",
    "lambda_events = 5\n",
    "\n",
    "mu_severity = 2.0\n",
    "\n",
    "sigma_severity = 0.5\n",
    "\n",
    "num_simulations = 10000"
   ]
  },
  {
   "cell_type": "code",
   "execution_count": 10,
   "id": "35155cf9",
   "metadata": {},
   "outputs": [],
   "source": [
    "total_losses = []\n",
    "\n",
    "for _ in range(num_simulations):\n",
    "\n",
    "    num_events = np.random.poisson(lambda_events)\n",
    "\n",
    "    if num_events > 0:\n",
    "        severities = np.random.lognormal(mean=mu_severity, sigma=sigma_severity, size=num_events)\n",
    "        total_loss = np.sum(severities)\n",
    "    else:\n",
    "        total_loss = 0\n",
    "    \n",
    "    total_losses.append(total_loss)\n"
   ]
  },
  {
   "cell_type": "code",
   "execution_count": 14,
   "id": "475a1c34",
   "metadata": {},
   "outputs": [],
   "source": [
    "total_losses = np.array(total_losses)"
   ]
  },
  {
   "cell_type": "code",
   "execution_count": null,
   "id": "776e5a04",
   "metadata": {},
   "outputs": [],
   "source": []
  }
 ],
 "metadata": {
  "kernelspec": {
   "display_name": ".venv",
   "language": "python",
   "name": "python3"
  },
  "language_info": {
   "codemirror_mode": {
    "name": "ipython",
    "version": 3
   },
   "file_extension": ".py",
   "mimetype": "text/x-python",
   "name": "python",
   "nbconvert_exporter": "python",
   "pygments_lexer": "ipython3",
   "version": "3.9.6"
  }
 },
 "nbformat": 4,
 "nbformat_minor": 5
}
